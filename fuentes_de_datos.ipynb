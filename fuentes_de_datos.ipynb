{
 "cells": [
  {
   "cell_type": "code",
   "execution_count": 1,
   "metadata": {},
   "outputs": [],
   "source": [
    "import numpy as np"
   ]
  },
  {
   "cell_type": "markdown",
   "metadata": {},
   "source": [
    "# Fuentes de Datos\n"
   ]
  },
  {
   "cell_type": "markdown",
   "metadata": {},
   "source": [
    "## Algunas páginas con datos para usar\n",
    "\n",
    "✅ UCI ML Repository: creado en 1987 por David Aha, +600 datasets donde filtrar por tipo de problema, tipo de datos, de características, etc. https://buff.ly/3E5H3Wa <br>\n",
    "✅ OMS: de las Naciones Unidas, datos de la salud de todo el mundo https://buff.ly/3Wmt05X <br>\n",
    "✅ Zdataset: selección según el problema que queremos practicar https://buff.ly/3HSq5Ob <br>\n",
    "✅ Data Is Plural: newsletter semanal con todo tipo de datos actuales de diversas materias https://buff.ly/3vQUS55 <br>\n",
    "✅ Data .gov: base de datos publica del gobierno de EEUU donde podemos encontrar +300.000 conjuntos de datos https://buff.ly/2C4Z0p9 <br>\n",
    "✅ NASA: desde 1994, tanto de la tierra como de otros planetas https://buff.ly/3FWL8wx  "
   ]
  },
  {
   "cell_type": "code",
   "execution_count": 1,
   "metadata": {},
   "outputs": [],
   "source": [
    "#Sklearn\n",
    "from sklearn import datasets\n",
    "\n",
    "# dataset Iris\n",
    "iris = datasets.load_iris()\n",
    "\n",
    "# dataset Vino\n",
    "vino = datasets.load_wine()\n",
    "\n",
    "#exiten mas datasets cargado con sklearn"
   ]
  },
  {
   "cell_type": "code",
   "execution_count": 22,
   "metadata": {},
   "outputs": [
    {
     "name": "stdout",
     "output_type": "stream",
     "text": [
      "Downloading data from https://storage.googleapis.com/tensorflow/tf-keras-datasets/mnist.npz\n",
      "\u001b[1m11490434/11490434\u001b[0m \u001b[32m━━━━━━━━━━━━━━━━━━━━\u001b[0m\u001b[37m\u001b[0m \u001b[1m1s\u001b[0m 0us/step\n"
     ]
    }
   ],
   "source": [
    "#Keras\n",
    "\n",
    "#datasets de las casa de boston\n",
    "from keras.datasets import boston_housing\n",
    "\n",
    "(X_train, y_train), (X_test, y_test) = boston_housing.load_data()\n",
    "\n",
    "#dataset MNIST-imagenes\n",
    "import tensorflow as tf\n",
    "(train_images, train_labels), (test_images, test_labels) = tf.keras.datasets.mnist.load_data()"
   ]
  },
  {
   "cell_type": "code",
   "execution_count": 2,
   "metadata": {},
   "outputs": [],
   "source": [
    "#GitHub\n",
    "import requests\n",
    "import os\n",
    "\n",
    "# este link luego se debe copiar el link despues de dar click a raw\n",
    "url ='https://github.com/joanby/tensorflow/blob/master/datasets/birthweight.csv'\n",
    "\n",
    "url_archivo ='https://raw.githubusercontent.com/joanby/tensorflow/master/datasets/birthweight.csv'\n",
    "\n",
    "respuesta = requests.get(url_archivo)\n",
    "\n",
    "# Guardar el archivo en la carpeta 'datasets'\n",
    "with open(os.path.join('datasets', 'birthweight.csv'), 'wb') as file:\n",
    "    file.write(respuesta.content)"
   ]
  }
 ],
 "metadata": {
  "kernelspec": {
   "display_name": "Python 3",
   "language": "python",
   "name": "python3"
  },
  "language_info": {
   "codemirror_mode": {
    "name": "ipython",
    "version": 3
   },
   "file_extension": ".py",
   "mimetype": "text/x-python",
   "name": "python",
   "nbconvert_exporter": "python",
   "pygments_lexer": "ipython3",
   "version": "3.11.5"
  }
 },
 "nbformat": 4,
 "nbformat_minor": 2
}
