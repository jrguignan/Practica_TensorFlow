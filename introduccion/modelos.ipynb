{
 "cells": [
  {
   "cell_type": "code",
   "execution_count": 15,
   "metadata": {},
   "outputs": [],
   "source": [
    "import tensorflow as tf\n",
    "import numpy as np"
   ]
  },
  {
   "cell_type": "markdown",
   "metadata": {},
   "source": [
    "# Modelos en TensorFlow"
   ]
  },
  {
   "cell_type": "markdown",
   "metadata": {},
   "source": [
    "$$f(x) = a\\cdot x$$"
   ]
  },
  {
   "cell_type": "markdown",
   "metadata": {},
   "source": [
    "$$loss = (a\\cdot x - target)^2$$"
   ]
  },
  {
   "cell_type": "markdown",
   "metadata": {},
   "source": [
    "¿ Qué valor debe tener a, para que f(5) = 50 ?"
   ]
  },
  {
   "cell_type": "code",
   "execution_count": 16,
   "metadata": {},
   "outputs": [
    {
     "name": "stdout",
     "output_type": "stream",
     "text": [
      "Optimización del valor de a para conseguir a*5 = 50\n",
      "7.0 x 5.0 = 20.0\n",
      "8.5 x 5.0 = 35.0\n",
      "9.25 x 5.0 = 42.5\n",
      "9.625 x 5.0 = 46.25\n",
      "9.8125 x 5.0 = 48.125\n",
      "9.90625 x 5.0 = 49.0625\n",
      "9.953125 x 5.0 = 49.53125\n",
      "9.9765625 x 5.0 = 49.765625\n",
      "9.98828125 x 5.0 = 49.8828125\n",
      "9.994140625 x 5.0 = 49.94140625\n",
      "9.9970703125 x 5.0 = 49.970703125\n",
      "9.99853515625 x 5.0 = 49.9853515625\n",
      "9.999267578125 x 5.0 = 49.99267578125\n",
      "9.9996337890625 x 5.0 = 49.996337890625\n",
      "9.99981689453125 x 5.0 = 49.9981689453125\n"
     ]
    }
   ],
   "source": [
    "# Definir la variable a\n",
    "a = tf.Variable(4.0)\n",
    "\n",
    "# Definir el valor de entrada\n",
    "x_val = 5.0\n",
    "\n",
    "# Función para calcular la multiplicación y la pérdida\n",
    "def compute_loss(a, x_val):\n",
    "    multiplication = a * x_val\n",
    "    loss = tf.square(multiplication - 50.0)  # L2 loss\n",
    "    return loss, multiplication\n",
    "\n",
    "# Optimizer\n",
    "optimizer = tf.optimizers.SGD(learning_rate=0.01)\n",
    "\n",
    "# Entrenamiento\n",
    "print(\"Optimización del valor de a para conseguir a*5 = 50\")\n",
    "for i in range(15):\n",
    "    with tf.GradientTape() as tape:\n",
    "        loss, multiplication = compute_loss(a, x_val)\n",
    "    \n",
    "    # Calcular los gradientes\n",
    "    gradients = tape.gradient(loss, [a])\n",
    "    \n",
    "    # Actualizar la variable\n",
    "    optimizer.apply_gradients(zip(gradients, [a]))\n",
    "    \n",
    "    # Imprimir los resultados\n",
    "    print(f\"{a.numpy()} x {x_val} = {multiplication.numpy()}\")\n"
   ]
  },
  {
   "cell_type": "code",
   "execution_count": 17,
   "metadata": {},
   "outputs": [],
   "source": [
    "#Permite reinicial las variables y el grafo de tensorflow\n",
    "from tensorflow.python.framework import ops\n",
    "ops.reset_default_graph()\n",
    "\n",
    "#para nuestro caso no es  util, pero es bueno tenerlo en cuenta para casos mas complejos"
   ]
  },
  {
   "cell_type": "markdown",
   "metadata": {},
   "source": [
    "$$f(x) = a\\cdot x + b $$\n"
   ]
  },
  {
   "cell_type": "markdown",
   "metadata": {},
   "source": [
    "$$loss = ((a\\cdot x +b) - target)^2$$"
   ]
  },
  {
   "cell_type": "markdown",
   "metadata": {},
   "source": [
    "¿ Qué valor debe tener a y b para que f(5) = 50 ?"
   ]
  },
  {
   "cell_type": "code",
   "execution_count": 20,
   "metadata": {},
   "outputs": [
    {
     "name": "stdout",
     "output_type": "stream",
     "text": [
      "Optimización del valor de a para conseguir a*5 = 50\n",
      "7.099999904632568 x 5.0 + 4.420000076293945 = 29.0\n",
      "8.107999801635742 x 5.0 + 4.621600151062012 = 39.91999816894531\n",
      "8.591839790344238 x 5.0 + 4.718368053436279 = 45.16160202026367\n",
      "8.82408332824707 x 5.0 + 4.764816761016846 = 47.67756652832031\n",
      "8.93556022644043 x 5.0 + 4.787112236022949 = 48.885231018066406\n",
      "8.989068984985352 x 5.0 + 4.797813892364502 = 49.46491622924805\n",
      "9.014753341674805 x 5.0 + 4.802950859069824 = 49.74315643310547\n",
      "9.027081489562988 x 5.0 + 4.805416584014893 = 49.8767204284668\n",
      "9.032999038696289 x 5.0 + 4.806600093841553 = 49.94082260131836\n",
      "9.035840034484863 x 5.0 + 4.807168483734131 = 49.97159194946289\n",
      "9.037203788757324 x 5.0 + 4.807441234588623 = 49.986366271972656\n",
      "9.037858009338379 x 5.0 + 4.807571887969971 = 49.99346160888672\n",
      "9.038171768188477 x 5.0 + 4.8076348304748535 = 49.99686050415039\n",
      "9.038322448730469 x 5.0 + 4.80766487121582 = 49.99849319458008\n",
      "9.038394927978516 x 5.0 + 4.807679176330566 = 49.99927520751953\n"
     ]
    }
   ],
   "source": [
    "# Definir la variable a y b\n",
    "a = tf.Variable(5.0)\n",
    "b = tf.Variable(4.0)\n",
    "\n",
    "# Definir el valor de entrada\n",
    "x_val = 5.0\n",
    "\n",
    "# Función para calcular la multiplicación y la pérdida\n",
    "def compute_loss(a,b, x_val):\n",
    "    modelo = tf.add(a * x_val, b)\n",
    "    loss = tf.square(modelo - 50.0)  # L2 loss\n",
    "    return loss, modelo\n",
    "\n",
    "# Optimizer\n",
    "optimizer = tf.optimizers.SGD(learning_rate=0.01)\n",
    "\n",
    "# Entrenamiento\n",
    "print(\"Optimización del valor de a para conseguir a*5 = 50\")\n",
    "for i in range(15):\n",
    "    with tf.GradientTape() as tape:\n",
    "        loss, modelo = compute_loss(a,b, x_val)\n",
    "    \n",
    "    # Calcular los gradientes\n",
    "    gradients = tape.gradient(loss, [a, b])\n",
    "    \n",
    "    # Actualizar la variable\n",
    "    optimizer.apply_gradients(zip(gradients, [a, b]))\n",
    "    \n",
    "    # Imprimir los resultados\n",
    "    print(f\"{a.numpy()} x {x_val} + {b.numpy()} = {modelo.numpy()}\")"
   ]
  }
 ],
 "metadata": {
  "kernelspec": {
   "display_name": "Python 3",
   "language": "python",
   "name": "python3"
  },
  "language_info": {
   "codemirror_mode": {
    "name": "ipython",
    "version": 3
   },
   "file_extension": ".py",
   "mimetype": "text/x-python",
   "name": "python",
   "nbconvert_exporter": "python",
   "pygments_lexer": "ipython3",
   "version": "3.11.5"
  }
 },
 "nbformat": 4,
 "nbformat_minor": 2
}
