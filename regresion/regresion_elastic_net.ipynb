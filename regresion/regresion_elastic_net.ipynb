{
 "cells": [
  {
   "cell_type": "code",
   "execution_count": 179,
   "metadata": {},
   "outputs": [],
   "source": [
    "import matplotlib.pyplot as plt\n",
    "import numpy as np\n",
    "import tensorflow as tf\n",
    "from sklearn import datasets\n",
    "iris = datasets.load_iris()"
   ]
  },
  {
   "cell_type": "markdown",
   "metadata": {},
   "source": [
    "# Regresion Elastic Net"
   ]
  },
  {
   "cell_type": "markdown",
   "metadata": {},
   "source": [
    "$$y = mA + b $$\n",
    "\n",
    "Función de pérdida:\n",
    "$$Loss = \\sum\\frac{(y_r-y_p)^2}{n} + \\alpha \\cdot |A| + \\beta \\cdot A^2$$"
   ]
  },
  {
   "cell_type": "code",
   "execution_count": 180,
   "metadata": {},
   "outputs": [],
   "source": [
    "#Datas a utilizar del dataset de iris\n",
    "X = np.array([[x[1], x[2], x[3]] for x in iris.data])\n",
    "y_target = np.array([x[0] for x in iris.data])\n",
    "\n"
   ]
  },
  {
   "cell_type": "code",
   "execution_count": 181,
   "metadata": {},
   "outputs": [],
   "source": [
    "#Divide en training y test\n",
    "\n",
    "#saca los id del conjunto de training 80% y de test 20%\n",
    "train = np.random.choice(len(X), size=round(len(X)*0.8),replace=False)\n",
    "test = np.array(list(set(range(len(X)))-set(train)))\n",
    "\n",
    "x_vals_train = X[train]\n",
    "x_vals_test = X[test]\n",
    "\n",
    "y_vals_train = y_target[train].reshape(-1,1)\n",
    "y_vals_test = y_target[test].reshape(-1,1)\n",
    "\n",
    "#Valores de los hiperparametros\n",
    "batch_size = 30\n",
    "learning_rate=0.0001"
   ]
  },
  {
   "cell_type": "markdown",
   "metadata": {},
   "source": [
    "- $x\\in\\mathbb R^3$\n",
    "- $A \\in \\mathbb R_{3\\times 1}$\n",
    "- $y = Ax+b\\in \\mathbb R$"
   ]
  },
  {
   "cell_type": "code",
   "execution_count": 182,
   "metadata": {},
   "outputs": [],
   "source": [
    "# Definir variables y modelo\n",
    "class Model(tf.Module):\n",
    "    def __init__(self):\n",
    "        self.A = tf.Variable(tf.random.normal(shape=[3, 1], dtype=tf.float32), name='A')\n",
    "        self.b = tf.Variable(tf.random.normal(shape=[1, 1], dtype=tf.float32), name='b')\n",
    "      \n",
    "    \n",
    "    def __call__(self, x_data):\n",
    "        return tf.add(tf.matmul(x_data, self.A), self.b)\n",
    "\n",
    "model = Model()"
   ]
  },
  {
   "cell_type": "markdown",
   "metadata": {},
   "source": [
    "$$y = mA + b $$\n",
    "\n",
    "Función de pérdida:\n",
    "$$Loss = \\sum\\frac{(y_r-y_p)^2}{n} + \\alpha \\cdot |A| + \\beta \\cdot A^2$$"
   ]
  },
  {
   "cell_type": "code",
   "execution_count": 183,
   "metadata": {},
   "outputs": [],
   "source": [
    "# Definir la pérdida y el optimizador\n",
    "def loss_fn(model, x_data, y_target):\n",
    "\n",
    "    elastic_param1 = tf.constant(1.0)\n",
    "    elastic_param2 = tf.constant(1.0)\n",
    "    l1_a_loss = tf.abs(model.A.numpy()[0][0])\n",
    "    l2_a_loss = tf.square(model.A.numpy()[0][0])\n",
    "    e1_term = tf.multiply(elastic_param1, l1_a_loss)\n",
    "    e2_term = tf.multiply(elastic_param2, l2_a_loss)\n",
    "\n",
    "    return tf.expand_dims(tf.add(tf.add(tf.reduce_mean(tf.square(y_target- model(x_data))),e1_term), e2_term), 0)\n",
    "\n",
    "optimizer = tf.optimizers.SGD(learning_rate=learning_rate)"
   ]
  },
  {
   "cell_type": "code",
   "execution_count": 184,
   "metadata": {},
   "outputs": [],
   "source": [
    "loss_lista=[]\n",
    "def train_step(model, x_data, y_target):\n",
    "    with tf.GradientTape() as tape:\n",
    "        \n",
    "        loss = loss_fn(model, x_data, y_target)\n",
    "        loss_lista.append(loss.numpy())\n",
    "    gradients = tape.gradient(loss, [model.A, model.b])\n",
    "    optimizer.apply_gradients(zip(gradients, [model.A, model.b]))"
   ]
  },
  {
   "cell_type": "code",
   "execution_count": 185,
   "metadata": {},
   "outputs": [
    {
     "name": "stdout",
     "output_type": "stream",
     "text": [
      "Paso #50, A= [[-0.14263077]\n",
      " [-0.23270173]\n",
      " [-0.28435266]] b= [[-0.07099368]]\n",
      "Paso #100, A= [[ 0.06028883]\n",
      " [ 0.02457172]\n",
      " [-0.20147386]] b= [[-0.00431131]]\n",
      "Paso #150, A= [[ 0.21610025]\n",
      " [ 0.2196274 ]\n",
      " [-0.13838232]] b= [[0.04701132]]\n",
      "Paso #200, A= [[ 0.33625177]\n",
      " [ 0.36302027]\n",
      " [-0.09223329]] b= [[0.08639424]]\n",
      "Paso #250, A= [[ 0.4305944 ]\n",
      " [ 0.46869063]\n",
      " [-0.05897852]] b= [[0.11712631]]\n",
      "Paso #300, A= [[ 0.5044275 ]\n",
      " [ 0.5460642 ]\n",
      " [-0.03537941]] b= [[0.14129561]]\n",
      "Paso #350, A= [[ 0.56366694]\n",
      " [ 0.6030189 ]\n",
      " [-0.01858638]] b= [[0.16043136]]\n",
      "Paso #400, A= [[ 0.6113181 ]\n",
      " [ 0.64351207]\n",
      " [-0.00738827]] b= [[0.17586905]]\n",
      "Paso #450, A= [[6.5008223e-01]\n",
      " [6.7221844e-01]\n",
      " [1.5307816e-04]] b= [[0.18819395]]\n",
      "Paso #500, A= [[0.6823937 ]\n",
      " [0.69242716]\n",
      " [0.0047212 ]] b= [[0.19842653]]\n",
      "Paso #550, A= [[0.7101171 ]\n",
      " [0.70576304]\n",
      " [0.00702964]] b= [[0.20709957]]\n",
      "Paso #600, A= [[0.73393416]\n",
      " [0.71382546]\n",
      " [0.00748235]] b= [[0.21465106]]\n"
     ]
    }
   ],
   "source": [
    "#Entremaniento del modelo\n",
    "\n",
    "for i in range(600):\n",
    "    rand_idx = np.random.choice(len(x_vals_train), size=batch_size)\n",
    "    rand_x = x_vals_train[rand_idx]\n",
    "    rand_x1 = np.array([[x] for x in rand_x], dtype=np.float32)\n",
    "    #revisar la transposicion\n",
    "    rand_y = np.transpose(np.array([y for y in y_vals_train[rand_idx]], dtype=np.float32))\n",
    "    train_step(model, rand_x1, rand_y)\n",
    "    if (i + 1) % 50 == 0:\n",
    "        print('Paso #' + str(i + 1) + \", A= \" + str(model.A.numpy())+\" b= \" + str(model.b.numpy()))"
   ]
  },
  {
   "cell_type": "code",
   "execution_count": 186,
   "metadata": {},
   "outputs": [
    {
     "name": "stdout",
     "output_type": "stream",
     "text": [
      "y= 0.73393416 x1 + 0.71382546 x2 + 0.007482352 x3 + 0.21465106\n"
     ]
    }
   ],
   "source": [
    "#Fórmula de la regresion múltiple\n",
    "\n",
    "print(\"y= \"+str(model.A.numpy()[0][0]) + \" x1 + \"+str(model.A.numpy()[1][0]) + \" x2 + \"+str(model.A.numpy()[2][0]) + \" x3 + \"+str(model.b.numpy()[0][0]))\n"
   ]
  },
  {
   "cell_type": "code",
   "execution_count": 187,
   "metadata": {},
   "outputs": [
    {
     "data": {
      "image/png": "[encoded data removed]",
      "text/plain": [
       "<Figure size 640x480 with 1 Axes>"
      ]
     },
     "metadata": {},
     "output_type": "display_data"
    }
   ],
   "source": [
    "plt.plot(loss_lista, 'r-')\n",
    "plt.title(\"Funcion de Pérdida\")\n",
    "plt.xlabel(\"Iteraciones\")\n",
    "plt.ylabel(\"Pérdida\")\n",
    "plt.show()"
   ]
  },
  {
   "cell_type": "code",
   "execution_count": 188,
   "metadata": {},
   "outputs": [
    {
     "name": "stdout",
     "output_type": "stream",
     "text": [
      "MSE en el conjunto completo: 5.946\n"
     ]
    }
   ],
   "source": [
    "#valores predichos por el modelo\n",
    "y_pred = X[:,0]*model.A.numpy()[0][0]+X[:,1]*model.A.numpy()[1][0]+X[:,2]*model.A.numpy()[2][0]+X[:,0]+model.b.numpy()[0][0]\n",
    "\n",
    "#Otra forma de calcular el error\n",
    "#Error calulado con keras\n",
    "mse = tf.keras.losses.MeanSquaredError()\n",
    "\n",
    "# Calculo del MSE para el conjunto de entrenamiento\n",
    "mse_train = mse(y_target, y_pred).numpy()\n",
    "\n",
    "print(\"MSE en el conjunto completo: \" + str(np.round(mse_train, 3)))\n"
   ]
  }
 ],
 "metadata": {
  "kernelspec": {
   "display_name": "Python 3",
   "language": "python",
   "name": "python3"
  },
  "language_info": {
   "codemirror_mode": {
    "name": "ipython",
    "version": 3
   },
   "file_extension": ".py",
   "mimetype": "text/x-python",
   "name": "python",
   "nbconvert_exporter": "python",
   "pygments_lexer": "ipython3",
   "version": "3.11.5"
  }
 },
 "nbformat": 4,
 "nbformat_minor": 2
}
