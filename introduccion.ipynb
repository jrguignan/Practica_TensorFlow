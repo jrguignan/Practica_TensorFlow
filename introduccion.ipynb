{
  "cells": [
    {
      "cell_type": "code",
      "execution_count": 38,
      "metadata": {
        "id": "iwl5yKVKWWlz"
      },
      "outputs": [],
      "source": [
        "import tensorflow as tf\n",
        "import numpy as np"
      ]
    },
    {
      "cell_type": "markdown",
      "metadata": {},
      "source": [
        "# Funcionamiento de TensorFlow"
      ]
    },
    {
      "cell_type": "markdown",
      "metadata": {},
      "source": [
        "# Tensores y Variables\n",
        "\n",
        "- Tensores son estructura en la que se basa tensorflow, son vectores en espacios mas grandes\n",
        "\n",
        "- Variables son parametros del modelo, optimiza el resultado del algoritmo y donde se recibe la informacion.\n",
        "\n"
      ]
    },
    {
      "cell_type": "code",
      "execution_count": 39,
      "metadata": {},
      "outputs": [],
      "source": [
        "# Variables\n",
        "\n",
        "my_var = tf.Variable(tf.zeros([2,2]))\n",
        "\n",
        "#TensorFlow 2.x ejecuta por defecto en modo \"eager execution\", \n",
        "# lo que significa que las operaciones se ejecutan de inmediato. \n",
        "# No necesitas crear una sesión para variables y placeholder"
      ]
    },
    {
      "cell_type": "code",
      "execution_count": 40,
      "metadata": {},
      "outputs": [
        {
          "name": "stdout",
          "output_type": "stream",
          "text": [
            "tf.Tensor(\n",
            "[[0.7495489  0.13788363]\n",
            " [0.20412026 0.58233213]], shape=(2, 2), dtype=float32) tf.Tensor(\n",
            "[[0.7495489  0.13788363]\n",
            " [0.20412026 0.58233213]], shape=(2, 2), dtype=float32)\n"
          ]
        }
      ],
      "source": [
        "val = np.random.rand(2,2)\n",
        "\n",
        "#Primera manera\n",
        "y1 = tf.convert_to_tensor(val, tf.float32)\n",
        "\n",
        "# Segunda manera, se guarda el arreglo en un placeholder \n",
        "# y se puede pasar por una funcion antes de guardar\n",
        " \n",
        "def my_function(x):\n",
        "    return tf.identity(x) \n",
        "\n",
        "y2 = my_function(tf.convert_to_tensor(val, dtype=tf.float32))\n",
        "\n",
        "print(y1, y2)\n"
      ]
    },
    {
      "cell_type": "markdown",
      "metadata": {},
      "source": [
        "# Tensores"
      ]
    },
    {
      "cell_type": "code",
      "execution_count": 51,
      "metadata": {},
      "outputs": [
        {
          "name": "stdout",
          "output_type": "stream",
          "text": [
            "(5,)\n",
            "tf.Tensor([1. 2. 3.], shape=(3,), dtype=float32)\n"
          ]
        }
      ],
      "source": [
        "# Tensores fijos\n",
        "\n",
        "#Tensor constantes\n",
        "const = tf.constant([1,2,3], dtype='float32') # sirve para pasar arreglos a tensores\n",
        "\n",
        "const_t = tf.convert_to_tensor([1,2,3,4,5], dtype='float32') #transforma lista u otras arreglos a tensores\n",
        "\n",
        "#para saber las dimensiones del tensor\n",
        "print(const_t.shape) \n",
        "\n",
        "#Tensor de arreglo de ceros de 2filas, 6columnas y 3profundidad\n",
        "zero_t = tf.zeros([3,2,6])\n",
        "\n",
        "#Tensor de arreglo de unos de 3filas, 2columnas\n",
        "ones_t = tf.ones([3,2])\n",
        "\n",
        "#Tensor de 10 con dimensiones 2filas, 2columnas y 2profundidad\n",
        "const_fill = tf.fill([2,2,2],10)\n",
        "\n",
        "print(const)"
      ]
    },
    {
      "cell_type": "code",
      "execution_count": 42,
      "metadata": {},
      "outputs": [],
      "source": [
        "#Tensores por tamaño similar\n",
        "\n",
        "#crea un tensor de ceros del tamaño del tensor const\n",
        "zeros_sim = tf.zeros_like(const)\n",
        "\n",
        "ones_sim = tf.ones_like(const_fill)"
      ]
    },
    {
      "cell_type": "code",
      "execution_count": 43,
      "metadata": {},
      "outputs": [],
      "source": [
        "# Tensor en forma de secuencia\n",
        "\n",
        "#Crea un tensor de valores que inician en 0, terminan en 1 y tienen 5 intervalos del mismo tamaño\n",
        "sec_t = tf.linspace(0, 1, 5)\n",
        "\n",
        "#crea un tensor de valores que comienzan en 0, ternimanen 1 y tienen un paso de 0.20\n",
        "range_t = tf.range(0, 1, 0.20)\n"
      ]
    },
    {
      "cell_type": "code",
      "execution_count": 44,
      "metadata": {},
      "outputs": [],
      "source": [
        "#Tensores aleatorios\n",
        "\n",
        "#Crea tensor [2,2] lleno con valores aleatorios uniformes entre 0 y 1\n",
        "random_t = tf.random.uniform([2,2], 0, 1)\n",
        "\n",
        "#Crea tensor [2,2] lleno con valores aleatorios normales entre 0 y 1\n",
        "random_normal_t = tf.random.normal([2,2], 0, 1)\n"
      ]
    },
    {
      "cell_type": "markdown",
      "metadata": {},
      "source": [
        "## Matrices"
      ]
    },
    {
      "cell_type": "code",
      "execution_count": 82,
      "metadata": {},
      "outputs": [],
      "source": [
        "A = tf.convert_to_tensor(np.array([[1,2,3],[4,5,6],[7,8,9]]), dtype='float32')\n",
        "\n",
        "B = tf.convert_to_tensor(np.array([[1,2,3],[6,5,4],[9,8,9]]), dtype='float32')\n",
        "\n",
        "#transpuesta\n",
        "A_trasp = tf.linalg.matrix_transpose(A)\n",
        "\n",
        "#Suma de matrices\n",
        "C = tf.add(A,B)\n",
        "\n",
        "#producto de matrices\n",
        "D = tf.matmul(A,B)\n",
        "\n",
        "#inversa de una matriz\n",
        "E = tf.linalg.inv(D)\n",
        "\n",
        "#Da casi la matriz identidad, difiere por los decimales\n",
        "#usando la inversa de Moore-Penrose\n",
        "I = tf.matmul(B,tf.linalg.pinv(B))\n",
        "\n",
        "#Norma de un vector, matriz, tensor\n",
        "norm = tf.linalg.norm(I) # da la norma de la matriz identidad sgrt(3)\n",
        "\n",
        "#Determinante\n",
        "E_inv = tf.linalg.det(E)\n",
        "\n",
        "#Producto cruz\n",
        "H = tf.linalg.cross([5,2,-1],[0,-1,4])\n",
        "\n",
        "#Autovalores\n",
        "F = tf.linalg.eigvalsh(A)\n",
        "\n",
        "#Autovectores\n",
        "G = tf.linalg.eigvals(A)"
      ]
    },
    {
      "cell_type": "code",
      "execution_count": 83,
      "metadata": {},
      "outputs": [
        {
          "name": "stdout",
          "output_type": "stream",
          "text": [
            "tf.Tensor([  7 -20  -5], shape=(3,), dtype=int32)\n",
            "tf.Tensor(1.7320508, shape=(), dtype=float32)\n"
          ]
        }
      ],
      "source": [
        "print(H)\n",
        "print(norm)"
      ]
    },
    {
      "cell_type": "markdown",
      "metadata": {},
      "source": [
        "# Operaciones"
      ]
    },
    {
      "cell_type": "code",
      "execution_count": 85,
      "metadata": {},
      "outputs": [],
      "source": [
        "#Aritmeticas\n",
        "\n",
        "x = tf.constant(3)\n",
        "y = tf.constant(5)\n",
        "\n",
        "#tambien se puede realizar con x,y\n",
        "suma = tf.add(8,4)\n",
        "resta = tf.subtract(8,4)\n",
        "multi = tf.multiply(8,4)\n",
        "div = tf.truediv(8,4)\n",
        "resto = tf.math.mod(8,4)\n",
        "\n"
      ]
    },
    {
      "cell_type": "code",
      "execution_count": 115,
      "metadata": {},
      "outputs": [],
      "source": [
        "# Funciones\n",
        "\n",
        "#Creo un tensor para usar\n",
        "x = tf.convert_to_tensor([-3,-2,-1,0,1,2,3], dtype='float32') \n",
        "\n",
        "#valor absoluto\n",
        "abs = tf.abs(x)\n",
        "\n",
        "#redondeo normal\n",
        "red = tf.round(6.4)\n",
        "#para arriba\n",
        "red_up = tf.math.ceil(6.4)\n",
        "#para abajo\n",
        "red_down = tf.math.floor(6.4)\n",
        "\n",
        "#seno\n",
        "seno = tf.sin(x)\n",
        "\n",
        "#exponencial\n",
        "exp = tf.exp(x)\n",
        "\n",
        "#cambio de signo\n",
        "camb = tf.negative(x)\n",
        "\n",
        "#potenciacion\n",
        "pot = tf.pow(x,2)\n",
        "\n",
        "#raiz cuadrada\n",
        "raiz = tf.sqrt(x) #no da error para los negativos, coloca nan\n",
        "\n",
        "#devualve el signo de cada elemento\n",
        "signo = tf.sign(x)\n",
        "\n"
      ]
    },
    {
      "cell_type": "code",
      "execution_count": 120,
      "metadata": {},
      "outputs": [],
      "source": [
        "# Funciones de Activacion\n",
        "\n",
        "import tensorflow.nn as nn\n",
        "\n",
        "#relu\n",
        "relu = nn.relu(x)\n",
        "\n",
        "#sigmoide\n",
        "sigm = nn.sigmoid(x)\n",
        "\n",
        "#tangente hiperbolica\n",
        "tangh = nn.tanh(x)\n",
        "\n",
        "#softsing\n",
        "ss = nn.softsign(x)"
      ]
    },
    {
      "cell_type": "markdown",
      "metadata": {},
      "source": [
        "# Estructura del Modelos"
      ]
    },
    {
      "cell_type": "code",
      "execution_count": 46,
      "metadata": {},
      "outputs": [],
      "source": [
        "#Definir estructura del modelo-algoritmo\n",
        "# Se define por un grafo computacional\n",
        "\n",
        "#Para la funcion y=mx+n\n",
        "\n",
        "#se pudiera expresar de la siguente manera:\n",
        "# y_pred = tf.add(tf.multiply(m_matix, x_input), n_vector)\n"
      ]
    },
    {
      "cell_type": "markdown",
      "metadata": {},
      "source": [
        "# Funcion de Pérdida - Cálculo de error"
      ]
    },
    {
      "cell_type": "code",
      "execution_count": 47,
      "metadata": {},
      "outputs": [],
      "source": [
        "#Declarar la funcion de perdidas\n",
        "\n",
        "#error cuadrado medio - MSE\n",
        "#loss = tf.reduce_mean(tf.square(y_actual-y_pred))"
      ]
    }
  ],
  "metadata": {
    "colab": {
      "authorship_tag": "ABX9TyP03JqbpR2bLwBtyEPLYiuK",
      "provenance": []
    },
    "kernelspec": {
      "display_name": "Python 3",
      "name": "python3"
    },
    "language_info": {
      "codemirror_mode": {
        "name": "ipython",
        "version": 3
      },
      "file_extension": ".py",
      "mimetype": "text/x-python",
      "name": "python",
      "nbconvert_exporter": "python",
      "pygments_lexer": "ipython3",
      "version": "3.11.5"
    }
  },
  "nbformat": 4,
  "nbformat_minor": 0
}
