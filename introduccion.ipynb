{
  "cells": [
    {
      "cell_type": "code",
      "execution_count": 1,
      "metadata": {
        "id": "iwl5yKVKWWlz"
      },
      "outputs": [],
      "source": [
        "import tensorflow as tf"
      ]
    },
    {
      "cell_type": "markdown",
      "metadata": {},
      "source": [
        "# Funcionamiento de TensorFlow"
      ]
    },
    {
      "cell_type": "markdown",
      "metadata": {},
      "source": [
        "Puntos claves:\n",
        "\n",
        "- Importación o generación de conjunto de datos\n",
        "- Transformación y normalización de datos\n",
        "- Dividir datos en train, test y validation\n",
        "- Definir los hiperparametros (lr,bash size, etc)\n",
        "- Inicializar variables o placeholders\n",
        "- Definir estructura del modelo-algoritmo\n",
        "- Declarar la funcion de perdidas\n",
        "- Inicializar y entrenar el modelo\n",
        "- Evaluacion del modelo\n",
        "- Ajustar hiperparametros\n",
        "- Predecir nuevos resultados"
      ]
    },
    {
      "cell_type": "markdown",
      "metadata": {},
      "source": [
        "# Placeholders y Variables"
      ]
    },
    {
      "cell_type": "code",
      "execution_count": null,
      "metadata": {},
      "outputs": [],
      "source": [
        "\n",
        "#Inicializar variables o placeholders\n",
        "\n",
        "#inicializar una variable x, una cosntante-30\n",
        "x = tf.constant(30)\n",
        "\n",
        "#inicializacion de un placeholder para una entrada de datos\n",
        "#los datos son float32, de R3(3) y no se sabe cuantos (None)\n",
        "x_input = tf.placeholder(tf.float32, [None, 3] )\n",
        "\n"
      ]
    },
    {
      "cell_type": "code",
      "execution_count": null,
      "metadata": {},
      "outputs": [],
      "source": [
        "#Definir estructura del modelo-algoritmo\n",
        "# Se define por un grafo computacional\n",
        "\n",
        "#Para la funcion y=mx+n\n",
        "\n",
        "#se pudiera expresar de la siguente manera:\n",
        "# y_pred = tf.add(tf.multiply(m_matix, x_input), n_vector)\n"
      ]
    },
    {
      "cell_type": "code",
      "execution_count": null,
      "metadata": {},
      "outputs": [],
      "source": [
        "#Declarar la funcion de perdidas\n",
        "\n",
        "#error cuadrado medio - MSE\n",
        "#loss = tf.reduce_mean(tf.square(y_actual-y_pred))"
      ]
    },
    {
      "cell_type": "code",
      "execution_count": null,
      "metadata": {},
      "outputs": [],
      "source": [
        "#Inicializar y entrenar el modelo\n",
        "\n",
        "\n",
        "#Primera manera\n",
        "with tf.Session(graph=graph) as session:\n",
        "    ...\n",
        "    session.run()\n",
        "    ...\n",
        "\n",
        "#Segunda manera\n",
        "session = tf.Session(graph=graph)\n",
        "...\n",
        "session.run(...)\n",
        "...\n"
      ]
    },
    {
      "cell_type": "markdown",
      "metadata": {},
      "source": [
        "# Tensores"
      ]
    },
    {
      "cell_type": "code",
      "execution_count": 28,
      "metadata": {},
      "outputs": [
        {
          "name": "stdout",
          "output_type": "stream",
          "text": [
            "tf.Tensor([1 2 3], shape=(3,), dtype=int32)\n"
          ]
        }
      ],
      "source": [
        "# Tensores fijos\n",
        "\n",
        "#Tensor constantes\n",
        "const = tf.constant([1,2,3]) # sirve para pasar arreglos a tensores\n",
        "\n",
        "const_t = tf.convert_to_tensor([1,2,3,4,5]) #tranforma lista u otras arreglos a tensores\n",
        "\n",
        "#Tensor de arreglo de ceros de 2filas, 6columnas y 3profundidad\n",
        "zero_t = tf.zeros([3,2,6])\n",
        "\n",
        "#Tensor de arreglo de unos de 3filas, 2columnas\n",
        "ones_t = tf.ones([3,2])\n",
        "\n",
        "#Tensor de 10 con dimensiones 2filas, 2columnas y 2profundidad\n",
        "const_fill = tf.fill([2,2,2],10)\n",
        "\n",
        "print(const)"
      ]
    },
    {
      "cell_type": "code",
      "execution_count": 12,
      "metadata": {},
      "outputs": [],
      "source": [
        "#Tensores por tamaño similar\n",
        "\n",
        "#crea un tensor de ceros del tamaño del tensor const\n",
        "zeros_sim = tf.zeros_like(const)\n",
        "\n",
        "ones_sim = tf.ones_like(const_fill)"
      ]
    },
    {
      "cell_type": "code",
      "execution_count": 19,
      "metadata": {},
      "outputs": [
        {
          "data": {
            "text/plain": [
              "<tf.Tensor: shape=(5,), dtype=float32, numpy=array([0. , 0.2, 0.4, 0.6, 0.8], dtype=float32)>"
            ]
          },
          "execution_count": 19,
          "metadata": {},
          "output_type": "execute_result"
        }
      ],
      "source": [
        "# Tensor en forma de secuencia\n",
        "\n",
        "#Crea un tensor de valores que inician en 0, terminan en 1 y tienen 5 intervalos del mismo tamaño\n",
        "sec_t = tf.linspace(0, 1, 5)\n",
        "\n",
        "#crea un tensor de valores que comienzan en 0, ternimanen 1 y tienen un paso de 0.20\n",
        "range_t = tf.range(0, 1, 0.20)\n"
      ]
    },
    {
      "cell_type": "code",
      "execution_count": 27,
      "metadata": {},
      "outputs": [],
      "source": [
        "#Tensores aleatorios\n",
        "\n",
        "#Crea tensor [2,2] lleno con valores aleatorios uniformes entre 0 y 1\n",
        "random_t = tf.random.uniform([2,2], 0, 1)\n",
        "\n",
        "#Crea tensor [2,2] lleno con valores aleatorios normales entre 0 y 1\n",
        "random_normal_t = tf.random.normal([2,2], 0, 1)\n"
      ]
    }
  ],
  "metadata": {
    "colab": {
      "authorship_tag": "ABX9TyP03JqbpR2bLwBtyEPLYiuK",
      "provenance": []
    },
    "kernelspec": {
      "display_name": "Python 3",
      "name": "python3"
    },
    "language_info": {
      "codemirror_mode": {
        "name": "ipython",
        "version": 3
      },
      "file_extension": ".py",
      "mimetype": "text/x-python",
      "name": "python",
      "nbconvert_exporter": "python",
      "pygments_lexer": "ipython3",
      "version": "3.11.5"
    }
  },
  "nbformat": 4,
  "nbformat_minor": 0
}
