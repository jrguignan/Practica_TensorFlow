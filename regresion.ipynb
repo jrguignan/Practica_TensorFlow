{
 "cells": [
  {
   "cell_type": "code",
   "execution_count": 1,
   "metadata": {},
   "outputs": [],
   "source": [
    "import matplotlib.pyplot as plt\n",
    "import numpy as np\n",
    "import tensorflow as tf"
   ]
  },
  {
   "cell_type": "markdown",
   "metadata": {},
   "source": [
    "# Regresion"
   ]
  },
  {
   "cell_type": "code",
   "execution_count": null,
   "metadata": {},
   "outputs": [],
   "source": [
    "#Creacion de los datos\n",
    "X = tf.convert_to_tensor(np.random.normal(1.0, 0.1, 200))\n",
    "y_target = tf.convert_to_tensor(np.repeat(10.0, 200))\n",
    "A = tf.Variable(tf.random_normal(shape=[1,1]))\n",
    "\n",
    "batch_size = 1"
   ]
  },
  {
   "cell_type": "code",
   "execution_count": null,
   "metadata": {},
   "outputs": [],
   "source": [
    "# Definir variables y modelo\n",
    "class LogisticModel(tf.Module):\n",
    "    def __init__(self):\n",
    "        self.A = tf.Variable(tf.random.normal(shape=[1, 1], dtype=tf.float32), name='A')\n",
    "      \n",
    "    \n",
    "    def __call__(self, x_data):\n",
    "        return tf.matmul(x_data, self.A)\n",
    "\n",
    "model = LogisticModel()"
   ]
  },
  {
   "cell_type": "code",
   "execution_count": null,
   "metadata": {},
   "outputs": [],
   "source": [
    "# Definir la pérdida y el optimizador\n",
    "def loss_fn(model, x_data, y_target):\n",
    "    my_prediction = tf.subtract(x_data, model(x2_data))\n",
    "    xentropy = tf.nn.sigmoid_cross_entropy_with_logits(logits=my_prediction, labels=y_target)\n",
    "    return tf.reduce_mean(xentropy)\n",
    "\n",
    "optimizer = tf.optimizers.SGD(learning_rate=0.1)"
   ]
  }
 ],
 "metadata": {
  "kernelspec": {
   "display_name": "Python 3",
   "language": "python",
   "name": "python3"
  },
  "language_info": {
   "codemirror_mode": {
    "name": "ipython",
    "version": 3
   },
   "file_extension": ".py",
   "mimetype": "text/x-python",
   "name": "python",
   "nbconvert_exporter": "python",
   "pygments_lexer": "ipython3",
   "version": "3.11.5"
  }
 },
 "nbformat": 4,
 "nbformat_minor": 2
}
